{
 "cells": [
  {
   "cell_type": "markdown",
   "id": "28fa0d86-fdda-4bde-9f5e-13c705f37870",
   "metadata": {},
   "source": [
    "## Easy\n",
    "Чтобы найти медиану можно использовать partition для центрального элемента. Если колчиество элементов чётное, то берём среднее арифметическое от n//2 и n//2 - 1\n",
    "\\\n",
    "Чтобы найти моду, после того, как прошли по списку, сохраняем наибольшую частоту из всех элементов, после этого идём по ссловарю и ищем все элементы с такой частотой. Берём среднее арифметическое от них"
   ]
  },
  {
   "cell_type": "code",
   "execution_count": 1,
   "id": "6961739f-68d9-4e54-817c-98f840bf9ffb",
   "metadata": {},
   "outputs": [],
   "source": [
    "from numpy import partition\n",
    "\n",
    "def func(arr):\n",
    "    d = {}\n",
    "    res = {}\n",
    "    # new_arr = sorted(arr)\n",
    "    l = len(arr)\n",
    "    mean = 0\n",
    "    median = 0\n",
    "    mode = 0\n",
    "    if(l == 0):\n",
    "        res[\"mean\"] = 0\n",
    "        res[\"median\"] = None\n",
    "        res[\"mode\"] = None\n",
    "        return res\n",
    "    arr1 = partition(arr, l//2)\n",
    "    if(l % 2 == 1):\n",
    "        median = arr1[l//2]\n",
    "    else:\n",
    "        arr2 = partition(arr1, l//2 - 1)\n",
    "        median = (arr2[l//2] + arr2[l//2 - 1])/2\n",
    "\n",
    "    max_key = None    \n",
    "    for a in arr:\n",
    "        mean += a\n",
    "        d[a] = d.get(a, 0) + 1\n",
    "        if(max_key == None):\n",
    "            max_key = a\n",
    "        elif(d[max_key] < d[a]):\n",
    "            max_key = a\n",
    "    \n",
    "    mean /= l\n",
    "    count = 0\n",
    "    for k in d.keys():\n",
    "        if(d[k] == d[max_key]):\n",
    "            mode += k\n",
    "            count += 1\n",
    "    mode /= count\n",
    "    res[\"mean\"] = mean\n",
    "    res[\"median\"] = median\n",
    "    res[\"mode\"] = mode\n",
    "    return res"
   ]
  },
  {
   "cell_type": "markdown",
   "id": "d6801ef1-2153-4484-b9f1-5fa3fcac2c05",
   "metadata": {},
   "source": [
    "## Test"
   ]
  },
  {
   "cell_type": "code",
   "execution_count": 2,
   "id": "66c14004-ff21-4be7-bcea-d9163fe1b5c5",
   "metadata": {
    "scrolled": true
   },
   "outputs": [
    {
     "name": "stdout",
     "output_type": "stream",
     "text": [
      "{'mean': 3.4285714285714284, 'median': 3, 'mode': 1.0}\n",
      "{'mean': -1.0, 'median': -0.5, 'mode': -3.0}\n",
      "{'mean': 0, 'median': None, 'mode': None}\n"
     ]
    }
   ],
   "source": [
    "example = [[0, 1, 1, 10, 5, 4, 3], [-6, 2, -6, -6, 8, -1, -1, 0, 0, 0], []]\n",
    "\n",
    "for i in range(0, len(example)):\n",
    "    print(func(example[i]))"
   ]
  },
  {
   "cell_type": "markdown",
   "id": "8065d680-25a7-4ace-8bb4-be39d81d5bd9",
   "metadata": {},
   "source": [
    "## Medium\n",
    "Идём по строкам и сплитим их по разделяющему знаку. Каждый элемент в строке обрабатываем отдельно"
   ]
  },
  {
   "cell_type": "code",
   "execution_count": 3,
   "id": "d11c2159-9f08-4126-ba3c-0c61c7978aa0",
   "metadata": {},
   "outputs": [],
   "source": [
    "import re\n",
    "\n",
    "def parse_csv(file_content: str) -> list[dict]:\n",
    "    result = list()\n",
    "    flag = False\n",
    "    att = list()\n",
    "    for s in file_content:\n",
    "        if(not flag):\n",
    "            flag = True\n",
    "            att = s.split(',')\n",
    "        else:\n",
    "            line = s.split(',', len(att)-1)\n",
    "            d = {}\n",
    "            for i in range(0, len(att)):\n",
    "                if(att[i].strip() in (\"\", \"id\", \"legs\")):\n",
    "                    d[att[i].strip()] = int(line[i])\n",
    "                elif(att[i].strip() == 'roles'):\n",
    "                    d[att[i].strip()] = re.findall(r\"\\w+\", line[i]) \n",
    "                else:\n",
    "                    d[att[i].strip()] = line[i]\n",
    "            result.append(d)\n",
    "    return result\n",
    "\n",
    "def max_leg_hero(parsed_content: list[dict]) -> str:\n",
    "    id = 0\n",
    "    for i in range(0, len(parsed_content)):\n",
    "        if(parsed_content[i][\"legs\"] > parsed_content[id][\"legs\"]):\n",
    "            id = i\n",
    "    return parsed_content[id][\"localized_name\"]"
   ]
  },
  {
   "cell_type": "markdown",
   "id": "1c0d196f-0cb9-43d6-a089-56b2a9ac45e1",
   "metadata": {},
   "source": [
    "## Test"
   ]
  },
  {
   "cell_type": "code",
   "execution_count": 4,
   "id": "ea732606-148a-49c9-8788-929efa093c40",
   "metadata": {
    "scrolled": true
   },
   "outputs": [
    {
     "name": "stdout",
     "output_type": "stream",
     "text": [
      "Broodmother\n"
     ]
    }
   ],
   "source": [
    "with open(\"../data/dota_hero_stats.csv\") as f:\n",
    "    d = parse_csv(f)\n",
    "    # for l in d:\n",
    "    #     print(l)\n",
    "    #     print('\\n') \n",
    "    print(max_leg_hero(d))"
   ]
  },
  {
   "attachments": {},
   "cell_type": "markdown",
   "id": "38b58974-d086-4113-a241-3a1aa905eabb",
   "metadata": {},
   "source": [
    "## Hard\n",
    "![01-hw-img.png](../images/01-hw-img.png)\n",
    "\\\n",
    "Возьмём метрику (x-attack != y-attack) + |x-legs - y-legs| + (x-attr != y-attr) + (|x-roles / y-roles| + |y-roles / x-roles|)\n",
    "\\\n",
    "Это действительно метрика, т.к. аксиома положительности, тождества и симметричности сохраняются. Аксиома треугольника: возьмём ещё z, для модуля всё очевидно, посмотрим на выражения с != : (x-attack != z-attack + z-attack != y-attack) >= ((x-attack != z-attack) V (z-attack != y-attack)) = (x-attack != y-attack)\n",
    "\\\n",
    "Скобка с attr так же оценивается\n",
    "\\\n",
    "Скобка с roles оценивается:(|x-roles / z-roles| + |z-roles / x-roles|) + (|z-roles / y-roles| + |y-roles / z-roles|) \\geq |x_{\\text{roles}} / y_{\\text{roles}}| + |y_{\\text{roles}} / x_{\\text{roles}}|\\) - очевидно, т.к. добавляется множество \\(z\\)"
   ]
  },
  {
   "cell_type": "code",
   "execution_count": 5,
   "id": "5133242e-86e6-47df-9a27-253462d9bd29",
   "metadata": {},
   "outputs": [],
   "source": [
    "\n",
    "def most_similar_heroes(data: list[dict]):\n",
    "    result = (None, None, -1)\n",
    "    for i in range(0, len(data)):\n",
    "        for j in range(i+1, len(data)):\n",
    "            diff_role = 0\n",
    "            s1 = set(data[i][\"roles\"])\n",
    "            s2 = set(data[j][\"roles\"])\n",
    "            metric = ((data[i][\"attack_type\"] != data[j][\"attack_type\"]) + abs(data[i][\"legs\"] - data[j][\"legs\"]) + \n",
    "                          (data[i][\"primary_attr\"] != data[j][\"primary_attr\"]) + (len((s1-s2)) + len((s2-s1))))\n",
    "            if(result[2] == -1 or result[2] > metric):\n",
    "                result = (data[i][\"localized_name\"], data[j][\"localized_name\"], metric)\n",
    "    return result"
   ]
  },
  {
   "cell_type": "code",
   "execution_count": 6,
   "id": "8ee43bbf-27bc-4021-95b0-8739a36c0a97",
   "metadata": {},
   "outputs": [
    {
     "name": "stdout",
     "output_type": "stream",
     "text": [
      "('Crystal Maiden', 'Keeper of the Light', 0)\n"
     ]
    }
   ],
   "source": [
    "res = most_similar_heroes(d)\n",
    "print(res)"
   ]
  }
 ],
 "metadata": {
  "kernelspec": {
   "display_name": "my-enviroment",
   "language": "python",
   "name": "my-enviroment"
  },
  "language_info": {
   "codemirror_mode": {
    "name": "ipython",
    "version": 3
   },
   "file_extension": ".py",
   "mimetype": "text/x-python",
   "name": "python",
   "nbconvert_exporter": "python",
   "pygments_lexer": "ipython3",
   "version": "3.11.7"
  }
 },
 "nbformat": 4,
 "nbformat_minor": 5
}
