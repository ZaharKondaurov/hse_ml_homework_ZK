{
 "cells": [
  {
   "cell_type": "code",
   "id": "initial_id",
   "metadata": {
    "collapsed": true,
    "ExecuteTime": {
     "end_time": "2024-04-26T20:55:37.264087Z",
     "start_time": "2024-04-26T20:55:36.843545Z"
    }
   },
   "source": [
    "import numpy as np\n",
    "import pandas as pd\n",
    "import re\n",
    "\n",
    "import matplotlib.pyplot as plt\n",
    "import seaborn as sns\n",
    "from sklearn.model_selection import train_test_split\n",
    "from sklearn.metrics import f1_score\n",
    "from sklearn.feature_extraction.text import CountVectorizer\n",
    "from nltk.stem.snowball import SnowballStemmer"
   ],
   "outputs": [],
   "execution_count": 1
  },
  {
   "metadata": {
    "ExecuteTime": {
     "end_time": "2024-04-26T20:55:37.396852Z",
     "start_time": "2024-04-26T20:55:37.265771Z"
    }
   },
   "cell_type": "code",
   "source": [
    "df = pd.read_csv('../data/singapore_airlines_reviews.csv')\n",
    "df.head()"
   ],
   "id": "1d6cd53560cc4af6",
   "outputs": [
    {
     "data": {
      "text/plain": [
       "              published_date published_platform  rating    type  \\\n",
       "0  2024-03-12T14:41:14-04:00            Desktop       3  review   \n",
       "1  2024-03-11T19:39:13-04:00            Desktop       5  review   \n",
       "2  2024-03-11T12:20:23-04:00            Desktop       1  review   \n",
       "3  2024-03-11T07:12:27-04:00            Desktop       5  review   \n",
       "4  2024-03-10T05:34:18-04:00            Desktop       2  review   \n",
       "\n",
       "                                                text  \\\n",
       "0  We used this airline to go from Singapore to L...   \n",
       "1  The service on Singapore Airlines Suites Class...   \n",
       "2  Booked, paid and received email confirmation f...   \n",
       "3  Best airline in the world, seats, food, servic...   \n",
       "4  Premium Economy Seating on Singapore Airlines ...   \n",
       "\n",
       "                                               title  helpful_votes  \n",
       "0                                                 Ok              0  \n",
       "1  The service in Suites Class makes one feel lik...              0  \n",
       "2                         Don’t give them your money              0  \n",
       "3                          Best Airline in the World              0  \n",
       "4  Premium Economy Seating on Singapore Airlines ...              0  "
      ],
      "text/html": [
       "<div>\n",
       "<style scoped>\n",
       "    .dataframe tbody tr th:only-of-type {\n",
       "        vertical-align: middle;\n",
       "    }\n",
       "\n",
       "    .dataframe tbody tr th {\n",
       "        vertical-align: top;\n",
       "    }\n",
       "\n",
       "    .dataframe thead th {\n",
       "        text-align: right;\n",
       "    }\n",
       "</style>\n",
       "<table border=\"1\" class=\"dataframe\">\n",
       "  <thead>\n",
       "    <tr style=\"text-align: right;\">\n",
       "      <th></th>\n",
       "      <th>published_date</th>\n",
       "      <th>published_platform</th>\n",
       "      <th>rating</th>\n",
       "      <th>type</th>\n",
       "      <th>text</th>\n",
       "      <th>title</th>\n",
       "      <th>helpful_votes</th>\n",
       "    </tr>\n",
       "  </thead>\n",
       "  <tbody>\n",
       "    <tr>\n",
       "      <th>0</th>\n",
       "      <td>2024-03-12T14:41:14-04:00</td>\n",
       "      <td>Desktop</td>\n",
       "      <td>3</td>\n",
       "      <td>review</td>\n",
       "      <td>We used this airline to go from Singapore to L...</td>\n",
       "      <td>Ok</td>\n",
       "      <td>0</td>\n",
       "    </tr>\n",
       "    <tr>\n",
       "      <th>1</th>\n",
       "      <td>2024-03-11T19:39:13-04:00</td>\n",
       "      <td>Desktop</td>\n",
       "      <td>5</td>\n",
       "      <td>review</td>\n",
       "      <td>The service on Singapore Airlines Suites Class...</td>\n",
       "      <td>The service in Suites Class makes one feel lik...</td>\n",
       "      <td>0</td>\n",
       "    </tr>\n",
       "    <tr>\n",
       "      <th>2</th>\n",
       "      <td>2024-03-11T12:20:23-04:00</td>\n",
       "      <td>Desktop</td>\n",
       "      <td>1</td>\n",
       "      <td>review</td>\n",
       "      <td>Booked, paid and received email confirmation f...</td>\n",
       "      <td>Don’t give them your money</td>\n",
       "      <td>0</td>\n",
       "    </tr>\n",
       "    <tr>\n",
       "      <th>3</th>\n",
       "      <td>2024-03-11T07:12:27-04:00</td>\n",
       "      <td>Desktop</td>\n",
       "      <td>5</td>\n",
       "      <td>review</td>\n",
       "      <td>Best airline in the world, seats, food, servic...</td>\n",
       "      <td>Best Airline in the World</td>\n",
       "      <td>0</td>\n",
       "    </tr>\n",
       "    <tr>\n",
       "      <th>4</th>\n",
       "      <td>2024-03-10T05:34:18-04:00</td>\n",
       "      <td>Desktop</td>\n",
       "      <td>2</td>\n",
       "      <td>review</td>\n",
       "      <td>Premium Economy Seating on Singapore Airlines ...</td>\n",
       "      <td>Premium Economy Seating on Singapore Airlines ...</td>\n",
       "      <td>0</td>\n",
       "    </tr>\n",
       "  </tbody>\n",
       "</table>\n",
       "</div>"
      ]
     },
     "execution_count": 2,
     "metadata": {},
     "output_type": "execute_result"
    }
   ],
   "execution_count": 2
  },
  {
   "metadata": {
    "ExecuteTime": {
     "end_time": "2024-04-26T20:55:37.824292Z",
     "start_time": "2024-04-26T20:55:37.398490Z"
    }
   },
   "cell_type": "code",
   "source": "sns.countplot(df, x='rating')",
   "id": "3f742e3add43d02c",
   "outputs": [
    {
     "data": {
      "text/plain": [
       "<Axes: xlabel='rating', ylabel='count'>"
      ]
     },
     "execution_count": 3,
     "metadata": {},
     "output_type": "execute_result"
    },
    {
     "data": {
      "text/plain": [
       "<Figure size 640x480 with 1 Axes>"
      ],
      "image/png": "[encoded data removed]"
     },
     "metadata": {},
     "output_type": "display_data"
    }
   ],
   "execution_count": 3
  },
  {
   "metadata": {},
   "cell_type": "markdown",
   "source": "Видно, что классы несбалансированные, поэтому будем использовать f1 меру",
   "id": "fb0d52030ab78436"
  },
  {
   "metadata": {},
   "cell_type": "markdown",
   "source": "## Easy",
   "id": "3711d4e0394b2235"
  },
  {
   "metadata": {
    "ExecuteTime": {
     "end_time": "2024-04-26T20:55:38.182735Z",
     "start_time": "2024-04-26T20:55:37.825801Z"
    }
   },
   "cell_type": "code",
   "source": [
    "def preprocess_text(text):\n",
    "\treturn re.sub(r\"[^\\w\\s]+\", '', text).lower().split()"
   ],
   "id": "1eadecd894b448b8",
   "outputs": [],
   "execution_count": 4
  },
  {
   "metadata": {
    "ExecuteTime": {
     "end_time": "2024-04-26T20:55:38.624063Z",
     "start_time": "2024-04-26T20:55:38.184962Z"
    }
   },
   "cell_type": "code",
   "source": "df.loc[102, 'text']",
   "id": "eeee7715ae78197f",
   "outputs": [
    {
     "data": {
      "text/plain": [
       "'Amazing cabin crew that was attached to the economy class seats.\\nthey went above and beyond to help me find a lost earbud.\\nI am extremely extremely grateful to the cabin crew for taking the time to help me on a very early christmas morning!!\\nthank you so so so much to the cabin crew for helping me 😊😊'"
      ]
     },
     "execution_count": 5,
     "metadata": {},
     "output_type": "execute_result"
    }
   ],
   "execution_count": 5
  },
  {
   "metadata": {},
   "cell_type": "markdown",
   "source": "Стоит заметить, что в отзывах есть эмодзи, однако preprocess_text уберёт их",
   "id": "83830e6905e97a7c"
  },
  {
   "metadata": {
    "ExecuteTime": {
     "end_time": "2024-04-26T20:55:38.995652Z",
     "start_time": "2024-04-26T20:55:38.626117Z"
    }
   },
   "cell_type": "code",
   "source": [
    "def preprocess_sentence(text: str) -> str:\n",
    "\tprep_text = preprocess_text(text)\n",
    "\treturn ' '.join(prep_text)"
   ],
   "id": "93cc1959eb8942a0",
   "outputs": [],
   "execution_count": 6
  },
  {
   "metadata": {},
   "cell_type": "markdown",
   "source": "Удалим пунктуацию и приведём всё к нижнему регистру",
   "id": "f129285f2985a779"
  },
  {
   "metadata": {
    "ExecuteTime": {
     "end_time": "2024-04-26T20:55:39.610319Z",
     "start_time": "2024-04-26T20:55:38.997729Z"
    }
   },
   "cell_type": "code",
   "source": "df['text_preprocessed'] = df.text.map(lambda x: preprocess_sentence(x))",
   "id": "d8745ea8b85806be",
   "outputs": [],
   "execution_count": 7
  },
  {
   "metadata": {},
   "cell_type": "markdown",
   "source": "Пусть отзывы на 4 и 5 баллов будут положительные, а остальные отрицательные",
   "id": "fac99bad73e983ea"
  },
  {
   "metadata": {
    "ExecuteTime": {
     "end_time": "2024-04-26T20:55:39.624236Z",
     "start_time": "2024-04-26T20:55:39.613409Z"
    }
   },
   "cell_type": "code",
   "source": "df['rating_num'] = df['rating'].map(lambda x: 1 if x >= 4 else 0)",
   "id": "e49d18a369adc9d5",
   "outputs": [],
   "execution_count": 8
  },
  {
   "metadata": {
    "ExecuteTime": {
     "end_time": "2024-04-26T20:55:40.629967Z",
     "start_time": "2024-04-26T20:55:39.625635Z"
    }
   },
   "cell_type": "code",
   "source": [
    "train, test = train_test_split(df, test_size=0.3, stratify=df['rating_num'], random_state=33)\n",
    "\n",
    "bow = CountVectorizer()\n",
    "x_train = bow.fit_transform(train['text_preprocessed'])\n",
    "x_test = bow.transform(test['text_preprocessed'])"
   ],
   "id": "9b493c904095c886",
   "outputs": [],
   "execution_count": 9
  },
  {
   "metadata": {
    "ExecuteTime": {
     "end_time": "2024-04-26T20:55:40.635141Z",
     "start_time": "2024-04-26T20:55:40.631556Z"
    }
   },
   "cell_type": "code",
   "source": [
    "y_train = train['rating_num']\n",
    "y_test = test['rating_num']"
   ],
   "id": "b7a243cc1c5439d6",
   "outputs": [],
   "execution_count": 10
  },
  {
   "metadata": {},
   "cell_type": "markdown",
   "source": "Попробуем сначала логистическую регрессию",
   "id": "1ea5b1b66b7d393c"
  },
  {
   "metadata": {
    "ExecuteTime": {
     "end_time": "2024-04-26T20:55:43.297384Z",
     "start_time": "2024-04-26T20:55:40.638834Z"
    }
   },
   "cell_type": "code",
   "source": [
    "from sklearn.linear_model import LogisticRegression\n",
    "\n",
    "model = LogisticRegression(max_iter=10000)\n",
    "\n",
    "model.fit(x_train, y_train)\n",
    "\n",
    "y_pred = model.predict(x_test)\n",
    "f1_score(y_test, y_pred, average='macro')"
   ],
   "id": "694441bfec9fad28",
   "outputs": [
    {
     "data": {
      "text/plain": [
       "0.8675656169836317"
      ]
     },
     "execution_count": 11,
     "metadata": {},
     "output_type": "execute_result"
    }
   ],
   "execution_count": 11
  },
  {
   "metadata": {},
   "cell_type": "markdown",
   "source": "Теперь катбуст",
   "id": "b475b3487ffeb421"
  },
  {
   "metadata": {
    "ExecuteTime": {
     "end_time": "2024-04-26T20:56:25.804743Z",
     "start_time": "2024-04-26T20:55:43.301666Z"
    }
   },
   "cell_type": "code",
   "source": [
    "from catboost import CatBoostClassifier\n",
    "model = CatBoostClassifier(iterations=1000, eval_metric='F1')\n",
    "\n",
    "model.fit(x_train, y_train, verbose=False)\n",
    "\n",
    "y_pred = model.predict(x_test)\n",
    "f1_score(y_test, y_pred, average='macro')"
   ],
   "id": "c67e459eb797b6b6",
   "outputs": [
    {
     "data": {
      "text/plain": [
       "0.850815519018284"
      ]
     },
     "execution_count": 12,
     "metadata": {},
     "output_type": "execute_result"
    }
   ],
   "execution_count": 12
  },
  {
   "metadata": {},
   "cell_type": "markdown",
   "source": "Результаты несильно отличаются, но попробуем разбить на TF-IDF",
   "id": "9119e29280b746bf"
  },
  {
   "metadata": {
    "ExecuteTime": {
     "end_time": "2024-04-26T20:56:26.555304Z",
     "start_time": "2024-04-26T20:56:25.806220Z"
    }
   },
   "cell_type": "code",
   "source": [
    "from sklearn.feature_extraction.text import TfidfVectorizer\n",
    "\n",
    "tfidf = TfidfVectorizer()\n",
    "\n",
    "x_train = tfidf.fit_transform(train['text_preprocessed'])\n",
    "x_test = tfidf.transform(test['text_preprocessed'])"
   ],
   "id": "8f34a80a0ce7fb4a",
   "outputs": [],
   "execution_count": 13
  },
  {
   "metadata": {
    "ExecuteTime": {
     "end_time": "2024-04-26T20:56:26.731973Z",
     "start_time": "2024-04-26T20:56:26.556671Z"
    }
   },
   "cell_type": "code",
   "source": [
    "model = LogisticRegression(max_iter=1000)\n",
    "\n",
    "model.fit(x_train, y_train)\n",
    "\n",
    "y_pred = model.predict(x_test)\n",
    "f1_score(y_test, y_pred, average='macro')"
   ],
   "id": "c7c337f8d53fd011",
   "outputs": [
    {
     "data": {
      "text/plain": [
       "0.8662114189470289"
      ]
     },
     "execution_count": 14,
     "metadata": {},
     "output_type": "execute_result"
    }
   ],
   "execution_count": 14
  },
  {
   "metadata": {
    "ExecuteTime": {
     "end_time": "2024-04-26T20:59:07.131459Z",
     "start_time": "2024-04-26T20:56:26.733687Z"
    }
   },
   "cell_type": "code",
   "source": [
    "model = CatBoostClassifier(iterations=1000, eval_metric='F1')\n",
    "\n",
    "model.fit(x_train, y_train, verbose=False)\n",
    "\n",
    "y_pred = model.predict(x_test)\n",
    "f1_score(y_test, y_pred, average='macro')"
   ],
   "id": "e692880265138bcd",
   "outputs": [
    {
     "data": {
      "text/plain": [
       "0.8609878256428105"
      ]
     },
     "execution_count": 15,
     "metadata": {},
     "output_type": "execute_result"
    }
   ],
   "execution_count": 15
  },
  {
   "metadata": {},
   "cell_type": "markdown",
   "source": "Видно, что логистическая регрессия показывает лучший результат",
   "id": "c5e32e52aae60231"
  },
  {
   "metadata": {},
   "cell_type": "markdown",
   "source": "## Medium",
   "id": "530ba967aa4e7fc1"
  },
  {
   "metadata": {},
   "cell_type": "markdown",
   "source": "Попробуем сначала воспользоваться стэммингом и избавимсся от stop-words",
   "id": "15685e8f62c00d28"
  },
  {
   "metadata": {
    "ExecuteTime": {
     "end_time": "2024-04-26T20:59:07.842167Z",
     "start_time": "2024-04-26T20:59:07.133093Z"
    }
   },
   "cell_type": "code",
   "source": [
    "import nltk\n",
    "from nltk.corpus import stopwords\n",
    "nltk.download('stopwords')\n",
    "stop_words = set(stopwords.words('english'))\n",
    "\n",
    "def preprocess_sentence_stem(text: str) -> str:\n",
    "\tprep_text = preprocess_text(text)\n",
    "\tstemmer = SnowballStemmer(\"english\")\n",
    "\tsingles = [stemmer.stem(x) for x in prep_text if x not in stop_words]\n",
    "\t# ' '.join(list(map(stemmer.stem, preprocess_text(text))))\n",
    "\treturn ' '.join(singles)"
   ],
   "id": "a5f591c7319f52ad",
   "outputs": [
    {
     "name": "stderr",
     "output_type": "stream",
     "text": [
      "[nltk_data] Downloading package stopwords to /home/zahar/nltk_data...\n",
      "[nltk_data]   Package stopwords is already up-to-date!\n"
     ]
    }
   ],
   "execution_count": 16
  },
  {
   "metadata": {
    "ExecuteTime": {
     "end_time": "2024-04-26T20:59:14.203173Z",
     "start_time": "2024-04-26T20:59:07.844586Z"
    }
   },
   "cell_type": "code",
   "source": "df['text_stemmed'] = df['text'].map(lambda x: preprocess_sentence_stem(x))",
   "id": "319bf678441b2725",
   "outputs": [],
   "execution_count": 17
  },
  {
   "metadata": {
    "ExecuteTime": {
     "end_time": "2024-04-26T20:59:14.546956Z",
     "start_time": "2024-04-26T20:59:14.204558Z"
    }
   },
   "cell_type": "code",
   "source": [
    "train, test = train_test_split(df, test_size=0.3, stratify=df['rating_num'], random_state=33)\n",
    "\n",
    "bow_stem = CountVectorizer()\n",
    "x_train = bow_stem.fit_transform(train['text_stemmed'])\n",
    "x_test = bow_stem.transform(test['text_stemmed'])\n",
    "\n",
    "y_train = train['rating_num']\n",
    "y_test = test['rating_num']"
   ],
   "id": "d5421fcca7a2229a",
   "outputs": [],
   "execution_count": 18
  },
  {
   "metadata": {
    "ExecuteTime": {
     "end_time": "2024-04-26T20:59:15.435260Z",
     "start_time": "2024-04-26T20:59:14.548752Z"
    }
   },
   "cell_type": "code",
   "source": [
    "model_logreg_stem = LogisticRegression(max_iter=1000)\n",
    "\n",
    "model_logreg_stem.fit(x_train, y_train)\n",
    "\n",
    "y_pred = model_logreg_stem.predict(x_train)\n",
    "print(f\"train: {f1_score(y_train, y_pred, average='macro')}\")\n",
    "y_pred = model_logreg_stem.predict(x_test)\n",
    "print(f\"test: {f1_score(y_test, y_pred, average='macro')}\")"
   ],
   "id": "33ae80da250ca6a3",
   "outputs": [
    {
     "name": "stdout",
     "output_type": "stream",
     "text": [
      "train: 0.9850209449986219\n",
      "test: 0.8566326373815915\n"
     ]
    }
   ],
   "execution_count": 19
  },
  {
   "metadata": {
    "ExecuteTime": {
     "end_time": "2024-04-26T21:01:10.471750Z",
     "start_time": "2024-04-26T20:59:15.436554Z"
    }
   },
   "cell_type": "code",
   "source": [
    "from sklearn.ensemble import StackingClassifier\n",
    "from sklearn.svm import SVC\n",
    "\n",
    "estimators = [('LogReg', LogisticRegression(max_iter=1000)),\n",
    "\t\t\t  ('SVC_lin', SVC(kernel='linear')),\n",
    "\t\t\t  ('SVC_rbf', SVC(kernel='rbf')),]\n",
    "clf = StackingClassifier(estimators=estimators)\n",
    "\n",
    "clf.fit(x_train, y_train)\n",
    "\n",
    "y_pred = clf.predict(x_train)\n",
    "print(f\"train: {f1_score(y_train, y_pred, average='macro')}\")\n",
    "y_pred = clf.predict(x_test)\n",
    "print(f\"test: {f1_score(y_test, y_pred, average='macro')}\")"
   ],
   "id": "b02f90f882aab3a3",
   "outputs": [
    {
     "name": "stdout",
     "output_type": "stream",
     "text": [
      "train: 0.9701310345572588\n",
      "test: 0.8658056916279324\n"
     ]
    }
   ],
   "execution_count": 20
  },
  {
   "metadata": {
    "ExecuteTime": {
     "end_time": "2024-04-26T21:01:49.277705Z",
     "start_time": "2024-04-26T21:01:10.473826Z"
    }
   },
   "cell_type": "code",
   "source": [
    "model_catboost_stem = CatBoostClassifier(iterations=1000, eval_metric='F1')\n",
    "\n",
    "model_catboost_stem.fit(x_train, y_train, verbose=False)\n",
    "\n",
    "y_pred = model_catboost_stem.predict(x_train)\n",
    "print(f\"train: {f1_score(y_train, y_pred, average='macro')}\")\n",
    "y_pred = model_catboost_stem.predict(x_test)\n",
    "print(f\"test: {f1_score(y_test, y_pred, average='macro')}\")"
   ],
   "id": "79c266849b58c119",
   "outputs": [
    {
     "name": "stdout",
     "output_type": "stream",
     "text": [
      "train: 0.9170574086263824\n",
      "test: 0.8418543145868602\n"
     ]
    }
   ],
   "execution_count": 21
  },
  {
   "metadata": {},
   "cell_type": "markdown",
   "source": "Результат несильно отличается от данных. на которых не был применён стемминг, попробуем применить лемматизацию",
   "id": "eee111d7d27c9f24"
  },
  {
   "metadata": {
    "ExecuteTime": {
     "end_time": "2024-04-26T21:01:49.315645Z",
     "start_time": "2024-04-26T21:01:49.279740Z"
    }
   },
   "cell_type": "code",
   "source": [
    "nltk.download('wordnet')\n",
    "from nltk.stem import WordNetLemmatizer\n",
    "\n",
    "def preprocess_sentence_lem(text: str) -> str:\n",
    "\tprep_text = preprocess_text(text)\n",
    "\tlemmatizer = WordNetLemmatizer()\n",
    "\tsingles = [lemmatizer.lemmatize(x) for x in prep_text if x not in stop_words]\n",
    "\treturn ' '.join(singles)"
   ],
   "id": "cf0df883d15b4f10",
   "outputs": [
    {
     "name": "stderr",
     "output_type": "stream",
     "text": [
      "[nltk_data] Downloading package wordnet to /home/zahar/nltk_data...\n",
      "[nltk_data]   Package wordnet is already up-to-date!\n"
     ]
    }
   ],
   "execution_count": 22
  },
  {
   "metadata": {
    "ExecuteTime": {
     "end_time": "2024-04-26T21:01:52.920574Z",
     "start_time": "2024-04-26T21:01:49.317284Z"
    }
   },
   "cell_type": "code",
   "source": "df['text_lem'] = df['text'].map(lambda x: preprocess_sentence_lem(x))",
   "id": "d01add09103a678e",
   "outputs": [],
   "execution_count": 23
  },
  {
   "metadata": {
    "ExecuteTime": {
     "end_time": "2024-04-26T21:01:53.281596Z",
     "start_time": "2024-04-26T21:01:52.921671Z"
    }
   },
   "cell_type": "code",
   "source": [
    "train, test = train_test_split(df, test_size=0.3, stratify=df['rating_num'], random_state=33)\n",
    "\n",
    "bow_lem = CountVectorizer()\n",
    "x_train = bow_lem.fit_transform(train['text_lem'])\n",
    "x_test = bow_lem.transform(test['text_lem'])\n",
    "y_train = train['rating_num']\n",
    "y_test = test['rating_num']"
   ],
   "id": "b9a864d8c3ec2ee4",
   "outputs": [],
   "execution_count": 24
  },
  {
   "metadata": {
    "ExecuteTime": {
     "end_time": "2024-04-26T21:01:54.248018Z",
     "start_time": "2024-04-26T21:01:53.282718Z"
    }
   },
   "cell_type": "code",
   "source": [
    "model_logreg_lem = LogisticRegression(max_iter=10000)\n",
    "\n",
    "model_logreg_lem.fit(x_train, y_train)\n",
    "\n",
    "y_pred = model_logreg_lem.predict(x_train)\n",
    "print(f\"train: {f1_score(y_train, y_pred, average='macro')}\")\n",
    "y_pred = model_logreg_lem.predict(x_test)\n",
    "print(f\"test: {f1_score(y_test, y_pred, average='macro')}\")"
   ],
   "id": "f9cb017ddd9882bb",
   "outputs": [
    {
     "name": "stdout",
     "output_type": "stream",
     "text": [
      "train: 0.9899075111505982\n",
      "test: 0.8601465031348293\n"
     ]
    }
   ],
   "execution_count": 25
  },
  {
   "metadata": {
    "ExecuteTime": {
     "end_time": "2024-04-26T21:02:39.662138Z",
     "start_time": "2024-04-26T21:01:54.249257Z"
    }
   },
   "cell_type": "code",
   "source": [
    "model_catboost_lem = CatBoostClassifier(iterations=1000, eval_metric='F1')\n",
    "\n",
    "model_catboost_lem.fit(x_train, y_train, verbose=False)\n",
    "\n",
    "y_pred = model_catboost_lem.predict(x_train)\n",
    "print(f\"train: {f1_score(y_train, y_pred, average='macro')}\")\n",
    "y_pred = model_catboost_lem.predict(x_test)\n",
    "print(f\"test: {f1_score(y_test, y_pred, average='macro')}\")"
   ],
   "id": "6d09f47061d4e4b7",
   "outputs": [
    {
     "name": "stdout",
     "output_type": "stream",
     "text": [
      "train: 0.9124549557086299\n",
      "test: 0.844706717543704\n"
     ]
    }
   ],
   "execution_count": 26
  },
  {
   "metadata": {
    "ExecuteTime": {
     "end_time": "2024-04-26T21:06:59.145997Z",
     "start_time": "2024-04-26T21:02:39.663884Z"
    }
   },
   "cell_type": "code",
   "source": [
    "from sklearn.tree import DecisionTreeClassifier\n",
    "best_d = 0\n",
    "best_s = 0\n",
    "max_test = 0\n",
    "best_model_decision_tree = None\n",
    "\n",
    "for s in range(10, 100, 1):\n",
    "\tfor d in range(5, 20, 1):\n",
    "\t\tmodel_decision_tree = DecisionTreeClassifier(criterion=\"entropy\", max_depth=d, min_samples_leaf=s)\n",
    "\t\t\n",
    "\t\tmodel_decision_tree.fit(x_train, y_train)\n",
    "\t\ty_pred = model_decision_tree.predict(x_train)\n",
    "\t\ttrain_f1 = f1_score(y_train, y_pred)\n",
    "\t\ty_pred = model_decision_tree.predict(x_test)\n",
    "\t\ttest_f1 = f1_score(y_test, y_pred)\n",
    "\t\tif abs(train_f1 - test_f1) < 0.07 and max_test < test_f1:\n",
    "\t\t\tmax_test = test_f1\n",
    "\t\t\tbest_model_decision_tree = model_decision_tree\n",
    "\t\t\tprint(f'train: {train_f1}\\ntest: {test_f1}\\ndepth: {d}\\nsample_split: {s}')"
   ],
   "id": "7dfc60667bc636d0",
   "outputs": [
    {
     "name": "stdout",
     "output_type": "stream",
     "text": [
      "train: 0.8854522567883474\n",
      "test: 0.8839755738050116\n",
      "depth: 5\n",
      "sample_split: 10\n",
      "train: 0.8857348185411428\n",
      "test: 0.8851976450798991\n",
      "depth: 6\n",
      "sample_split: 10\n",
      "train: 0.8883585255900291\n",
      "test: 0.8863542098714227\n",
      "depth: 7\n",
      "sample_split: 10\n",
      "train: 0.8925902583956065\n",
      "test: 0.8874367622259696\n",
      "depth: 8\n",
      "sample_split: 10\n",
      "train: 0.8943162431534524\n",
      "test: 0.887581424669048\n",
      "depth: 9\n",
      "sample_split: 10\n",
      "train: 0.8998551249547266\n",
      "test: 0.8880423280423281\n",
      "depth: 10\n",
      "sample_split: 10\n",
      "train: 0.9119199777716033\n",
      "test: 0.8901783795400816\n",
      "depth: 15\n",
      "sample_split: 10\n",
      "train: 0.9101384629681256\n",
      "test: 0.8914778856526431\n",
      "depth: 15\n",
      "sample_split: 11\n",
      "train: 0.903673544924586\n",
      "test: 0.8917748917748918\n",
      "depth: 15\n",
      "sample_split: 18\n",
      "train: 0.9061458718992966\n",
      "test: 0.8930192349254376\n",
      "depth: 17\n",
      "sample_split: 18\n",
      "train: 0.9053916581892166\n",
      "test: 0.8934885726606295\n",
      "depth: 17\n",
      "sample_split: 19\n",
      "train: 0.9040333796940196\n",
      "test: 0.8943159714717959\n",
      "depth: 17\n",
      "sample_split: 21\n"
     ]
    }
   ],
   "execution_count": 27
  },
  {
   "metadata": {},
   "cell_type": "markdown",
   "source": "Видно, что лемматизация не дала сильного прироста к качеству моделей. Логистическая регрессия и катбуст показали хороший результат при простом препроцессинге(удаление пунктуации и приведение всего к одному регистру), стемминге и лемматизации. Стоит отметить, что decision tree дал результат чуть лучше, чем катбуст, не смотря на большое количество фичей. Также ансамбль из лог регресси и svc с линейным и Гауссовым ядром показалс себя не хуже других моделей",
   "id": "dafe5fdbfc8283bd"
  },
  {
   "metadata": {},
   "cell_type": "markdown",
   "source": "Пайплайн для теста моделей",
   "id": "6b1c8fc0628023c1"
  },
  {
   "metadata": {
    "ExecuteTime": {
     "end_time": "2024-04-26T21:06:59.152844Z",
     "start_time": "2024-04-26T21:06:59.147867Z"
    }
   },
   "cell_type": "code",
   "source": [
    "def pipeline(df, model, prep_type = 'lem'):\n",
    "\tassert prep_type in ['lem', 'stem']\n",
    "\tif prep_type == 'lem':\n",
    "\t\tdf['prep_text'] = df['text'].map(lambda x: preprocess_sentence_lem(x))\n",
    "\t\ttest = bow_lem.transform(df['prep_text'])\n",
    "\telse:\n",
    "\t\tdf['prep_text'] = df['text'].map(lambda x: preprocess_sentence_stem(x))\n",
    "\t\ttest = bow_stem.transform(df['prep_text'])\n",
    "\treturn model.predict(test)"
   ],
   "id": "9fcecf290933163d",
   "outputs": [],
   "execution_count": 28
  },
  {
   "metadata": {
    "ExecuteTime": {
     "end_time": "2024-04-26T21:06:59.567557Z",
     "start_time": "2024-04-26T21:06:59.157605Z"
    }
   },
   "cell_type": "code",
   "source": [
    "bad_comm_1 = 'I had the worst experience flying with this airline. The customer service was terrible, the flight was delayed multiple times without any clear explanation, and the seats were incredibly uncomfortable. The food served on board was bland and overpriced, and the entertainment options were outdated. I would not recommend this airline to anyone looking for a pleasant and stress-free travel experience.'\n",
    "bad_comm_2 = 'I had an absolutely terrible experience flying with this airline. The staff was rude and unhelpful, the flight was delayed without any clear explanation, and the seats were incredibly uncomfortable. The food was subpar and overpriced, and the overall service was lackluster. I would not recommend this airline to anyone looking for a pleasant and stress-free travel experience. Avoid at all costs!'\n",
    "good_comm_1 = 'I had a fantastic experience flying with this airline. The customer service was top-notch, with friendly and helpful staff throughout my journey. The flight departed on time and arrived early, making for a smooth and efficient travel experience. The seats were comfortable and spacious, allowing me to relax and enjoy the flight. The food served on board was delicious and reasonably priced, and there were plenty of entertainment options to choose from. I would highly recommend this airline to anyone looking for a pleasant and enjoyable travel experience'\n",
    "good_comm_2 = 'I recently flew with Airline and was thoroughly impressed. From the efficient check-in to the comfortable and well-appointed aircraft, every aspect of my journey was exceptional. The attentive flight attendants ensured I had a relaxing and enjoyable flight. I highly recommend Airline Name for their reliable service and commitment to passenger satisfaction.'\n",
    "\n",
    "test_df = pd.DataFrame({'text': [bad_comm_1, good_comm_1, good_comm_2, bad_comm_2], 'rating_num': [0, 1, 1, 0]})\n",
    "\n",
    "test_df"
   ],
   "id": "bb160c3dae4b0f7b",
   "outputs": [
    {
     "data": {
      "text/plain": [
       "                                                text  rating_num\n",
       "0  I had the worst experience flying with this ai...           0\n",
       "1  I had a fantastic experience flying with this ...           1\n",
       "2  I recently flew with Airline and was thoroughl...           1\n",
       "3  I had an absolutely terrible experience flying...           0"
      ],
      "text/html": [
       "<div>\n",
       "<style scoped>\n",
       "    .dataframe tbody tr th:only-of-type {\n",
       "        vertical-align: middle;\n",
       "    }\n",
       "\n",
       "    .dataframe tbody tr th {\n",
       "        vertical-align: top;\n",
       "    }\n",
       "\n",
       "    .dataframe thead th {\n",
       "        text-align: right;\n",
       "    }\n",
       "</style>\n",
       "<table border=\"1\" class=\"dataframe\">\n",
       "  <thead>\n",
       "    <tr style=\"text-align: right;\">\n",
       "      <th></th>\n",
       "      <th>text</th>\n",
       "      <th>rating_num</th>\n",
       "    </tr>\n",
       "  </thead>\n",
       "  <tbody>\n",
       "    <tr>\n",
       "      <th>0</th>\n",
       "      <td>I had the worst experience flying with this ai...</td>\n",
       "      <td>0</td>\n",
       "    </tr>\n",
       "    <tr>\n",
       "      <th>1</th>\n",
       "      <td>I had a fantastic experience flying with this ...</td>\n",
       "      <td>1</td>\n",
       "    </tr>\n",
       "    <tr>\n",
       "      <th>2</th>\n",
       "      <td>I recently flew with Airline and was thoroughl...</td>\n",
       "      <td>1</td>\n",
       "    </tr>\n",
       "    <tr>\n",
       "      <th>3</th>\n",
       "      <td>I had an absolutely terrible experience flying...</td>\n",
       "      <td>0</td>\n",
       "    </tr>\n",
       "  </tbody>\n",
       "</table>\n",
       "</div>"
      ]
     },
     "execution_count": 29,
     "metadata": {},
     "output_type": "execute_result"
    }
   ],
   "execution_count": 29
  },
  {
   "metadata": {
    "ExecuteTime": {
     "end_time": "2024-04-26T21:07:00.052664Z",
     "start_time": "2024-04-26T21:06:59.569508Z"
    }
   },
   "cell_type": "code",
   "source": "pipeline(test_df, model_logreg_lem, 'lem')",
   "id": "a2be9068832ebdac",
   "outputs": [
    {
     "data": {
      "text/plain": [
       "array([0, 1, 1, 0])"
      ]
     },
     "execution_count": 30,
     "metadata": {},
     "output_type": "execute_result"
    }
   ],
   "execution_count": 30
  },
  {
   "metadata": {
    "ExecuteTime": {
     "end_time": "2024-04-26T21:07:00.487632Z",
     "start_time": "2024-04-26T21:07:00.054850Z"
    }
   },
   "cell_type": "code",
   "source": "pipeline(test_df, model_catboost_lem, 'lem')",
   "id": "200e14921535c0b6",
   "outputs": [
    {
     "data": {
      "text/plain": [
       "array([0, 1, 1, 0])"
      ]
     },
     "execution_count": 31,
     "metadata": {},
     "output_type": "execute_result"
    }
   ],
   "execution_count": 31
  },
  {
   "metadata": {
    "ExecuteTime": {
     "end_time": "2024-04-26T21:07:00.907586Z",
     "start_time": "2024-04-26T21:07:00.489055Z"
    }
   },
   "cell_type": "code",
   "source": "pipeline(test_df, model_catboost_stem, 'stem')",
   "id": "e3ccb05bd3639c79",
   "outputs": [
    {
     "data": {
      "text/plain": [
       "array([0, 1, 1, 0])"
      ]
     },
     "execution_count": 32,
     "metadata": {},
     "output_type": "execute_result"
    }
   ],
   "execution_count": 32
  },
  {
   "metadata": {
    "ExecuteTime": {
     "end_time": "2024-04-26T21:07:01.801247Z",
     "start_time": "2024-04-26T21:07:00.910105Z"
    }
   },
   "cell_type": "code",
   "source": "pipeline(test_df, best_model_decision_tree, 'lem')",
   "id": "157fd18c33014441",
   "outputs": [
    {
     "data": {
      "text/plain": [
       "array([0, 1, 1, 0])"
      ]
     },
     "execution_count": 33,
     "metadata": {},
     "output_type": "execute_result"
    }
   ],
   "execution_count": 33
  },
  {
   "metadata": {
    "ExecuteTime": {
     "end_time": "2024-04-26T21:07:02.058827Z",
     "start_time": "2024-04-26T21:07:01.802998Z"
    }
   },
   "cell_type": "code",
   "source": "pipeline(test_df, model_logreg_stem, 'stem')",
   "id": "542410cae5f92c81",
   "outputs": [
    {
     "data": {
      "text/plain": [
       "array([0, 1, 1, 0])"
      ]
     },
     "execution_count": 34,
     "metadata": {},
     "output_type": "execute_result"
    }
   ],
   "execution_count": 34
  },
  {
   "metadata": {
    "ExecuteTime": {
     "end_time": "2024-04-26T21:07:02.501085Z",
     "start_time": "2024-04-26T21:07:02.060871Z"
    }
   },
   "cell_type": "code",
   "source": "pipeline(test_df, clf, 'stem')",
   "id": "3aba44513fbe2470",
   "outputs": [
    {
     "data": {
      "text/plain": [
       "array([0, 1, 1, 0])"
      ]
     },
     "execution_count": 35,
     "metadata": {},
     "output_type": "execute_result"
    }
   ],
   "execution_count": 35
  },
  {
   "metadata": {},
   "cell_type": "markdown",
   "source": "Видно, что все модели справились с задачей, причём не зависимо от того, применили к данным стемминг или лемматизацию. Стоит заметить, что у всех моделей качество отличается несильно, но decision tree показывает себя лучше остальных, особенно подобрав параметры так, чтобы f1 на тесте была наибольшей и разница между f1 на test и train была < 0.07(можно выбрать и другое значение), причём разница между test и train и decision tree наименьшая, если сравнивать с остальными моделями",
   "id": "daf6ba4fd3212ea2"
  },
  {
   "metadata": {
    "ExecuteTime": {
     "end_time": "2024-04-26T21:07:02.507079Z",
     "start_time": "2024-04-26T21:07:02.503405Z"
    }
   },
   "cell_type": "code",
   "source": "",
   "id": "12ab0b6302da23ba",
   "outputs": [],
   "execution_count": 35
  }
 ],
 "metadata": {
  "kernelspec": {
   "display_name": "my-enviroment",
   "language": "python",
   "name": "my-enviroment"
  },
  "language_info": {
   "codemirror_mode": {
    "name": "ipython",
    "version": 2
   },
   "file_extension": ".py",
   "mimetype": "text/x-python",
   "name": "python",
   "nbconvert_exporter": "python",
   "pygments_lexer": "ipython2",
   "version": "2.7.6"
  }
 },
 "nbformat": 4,
 "nbformat_minor": 5
}
