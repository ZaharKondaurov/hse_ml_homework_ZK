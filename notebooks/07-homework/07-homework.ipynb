{
 "cells": [
  {
   "metadata": {
    "ExecuteTime": {
     "end_time": "2024-05-15T18:34:21.677642Z",
     "start_time": "2024-05-15T18:34:20.862419Z"
    }
   },
   "cell_type": "code",
   "source": [
    "import pandas as pd\n",
    "import os\n",
    "from sklearn.model_selection import train_test_split"
   ],
   "id": "37192694a1116c2",
   "outputs": [],
   "execution_count": 1
  },
  {
   "metadata": {
    "ExecuteTime": {
     "end_time": "2024-05-15T18:34:21.825734Z",
     "start_time": "2024-05-15T18:34:21.680413Z"
    }
   },
   "cell_type": "code",
   "source": "df = pd.read_csv('../../data/singapore_airlines_reviews.csv')",
   "id": "f6ef093b4a654dc0",
   "outputs": [],
   "execution_count": 2
  },
  {
   "metadata": {},
   "cell_type": "markdown",
   "source": "## Easy",
   "id": "d830d45c8b65d393"
  },
  {
   "metadata": {},
   "cell_type": "markdown",
   "source": "Команда train со split ",
   "id": "9d146e8b8398d8fa"
  },
  {
   "metadata": {
    "ExecuteTime": {
     "end_time": "2024-05-15T18:34:27.982643Z",
     "start_time": "2024-05-15T18:34:21.826942Z"
    }
   },
   "cell_type": "code",
   "source": "!python main.py train --data ../../data/singapore_airlines_reviews.csv --split 0.3 --model models/model.pkl",
   "id": "1c459aaa79eb111e",
   "outputs": [
    {
     "name": "stdout",
     "output_type": "stream",
     "text": [
      "train: 0.9911691296608239\r\n",
      "test: 0.8566131919360658\r\n"
     ]
    }
   ],
   "execution_count": 3
  },
  {
   "metadata": {},
   "cell_type": "markdown",
   "source": "Команда predict для положительного отзыва, где комментарий - строка",
   "id": "4b7f14253e8a282b"
  },
  {
   "metadata": {
    "ExecuteTime": {
     "end_time": "2024-05-15T18:34:30.988082Z",
     "start_time": "2024-05-15T18:34:27.985211Z"
    }
   },
   "cell_type": "code",
   "source": "!python main.py predict --model models/model.pkl --data \"I recently flew with Airline Company and had a fantastic experience from start to finish. The check-in process was smooth and efficient, the flight attendants were friendly and attentive, and the in-flight amenities were top-notch. The flight itself was comfortable and on-time, and I appreciated the complimentary snacks and beverages provided. Overall, I was impressed with the level of service and professionalism displayed by Airline Company and would definitely fly with them again in the future. Highly recommend!\"",
   "id": "b657031d42f53ca6",
   "outputs": [
    {
     "name": "stdout",
     "output_type": "stream",
     "text": [
      "positive review 1\r\n"
     ]
    }
   ],
   "execution_count": 4
  },
  {
   "metadata": {
    "ExecuteTime": {
     "end_time": "2024-05-15T18:34:31.007145Z",
     "start_time": "2024-05-15T18:34:30.990468Z"
    }
   },
   "cell_type": "code",
   "source": [
    "bad_comm_1 = 'I had the worst experience flying with this airline. The customer service was terrible, the flight was delayed multiple times without any clear explanation, and the seats were incredibly uncomfortable. The food served on board was bland and overpriced, and the entertainment options were outdated. I would not recommend this airline to anyone looking for a pleasant and stress-free travel experience.'\n",
    "bad_comm_2 = 'I had an absolutely terrible experience flying with this airline. The staff was rude and unhelpful, the flight was delayed without any clear explanation, and the seats were incredibly uncomfortable. The food was subpar and overpriced, and the overall service was lackluster. I would not recommend this airline to anyone looking for a pleasant and stress-free travel experience. Avoid at all costs!'\n",
    "good_comm_1 = 'I had a fantastic experience flying with this airline. The customer service was top-notch, with friendly and helpful staff throughout my journey. The flight departed on time and arrived early, making for a smooth and efficient travel experience. The seats were comfortable and spacious, allowing me to relax and enjoy the flight. The food served on board was delicious and reasonably priced, and there were plenty of entertainment options to choose from. I would highly recommend this airline to anyone looking for a pleasant and enjoyable travel experience'\n",
    "good_comm_2 = 'I recently flew with Airline and was thoroughly impressed. From the efficient check-in to the comfortable and well-appointed aircraft, every aspect of my journey was exceptional. The attentive flight attendants ensured I had a relaxing and enjoyable flight. I highly recommend Airline Name for their reliable service and commitment to passenger satisfaction.'\n",
    "\n",
    "test_df = pd.DataFrame({'text': [bad_comm_1, good_comm_1, good_comm_2, bad_comm_2], 'rating_num': [0, 1, 1, 0]})\n",
    "test_df.to_csv('../../data/review.csv', index=False)"
   ],
   "id": "cbe0dafcfb9876cf",
   "outputs": [],
   "execution_count": 5
  },
  {
   "metadata": {},
   "cell_type": "markdown",
   "source": "Команда predict с предсказанием нескольких отзывов из файла review.csv",
   "id": "63221ef65a34e884"
  },
  {
   "metadata": {
    "ExecuteTime": {
     "end_time": "2024-05-15T18:34:34.379996Z",
     "start_time": "2024-05-15T18:34:31.009637Z"
    }
   },
   "cell_type": "code",
   "source": "!python main.py predict --model models/model.pkl --data ../../data/review.csv",
   "id": "686d45e1b8f41a22",
   "outputs": [
    {
     "name": "stdout",
     "output_type": "stream",
     "text": [
      "negative review 0\r\n",
      "positive review 1\r\n",
      "positive review 1\r\n",
      "negative review 0\r\n"
     ]
    }
   ],
   "execution_count": 6
  },
  {
   "metadata": {
    "ExecuteTime": {
     "end_time": "2024-05-15T18:34:34.493488Z",
     "start_time": "2024-05-15T18:34:34.382663Z"
    }
   },
   "cell_type": "code",
   "source": [
    "test, train = train_test_split(df.loc[:df.shape[0] // 2], test_size=0.3)\n",
    "train.to_csv('../../data/train.csv', index=False)\n",
    "test.to_csv('../../data/test.csv', index=False)"
   ],
   "id": "4d6b9d991e7305fa",
   "outputs": [],
   "execution_count": 7
  },
  {
   "metadata": {},
   "cell_type": "markdown",
   "source": "Команды train и test, но на вход подаются только файлы",
   "id": "11c6f9984b95c8ad"
  },
  {
   "metadata": {
    "ExecuteTime": {
     "end_time": "2024-05-15T18:34:39.022644Z",
     "start_time": "2024-05-15T18:34:34.494862Z"
    }
   },
   "cell_type": "code",
   "source": "!python main.py train --data ../../data/train.csv --test ../../data/test.csv --model models/model.pkl",
   "id": "5908ded1962d2b79",
   "outputs": [
    {
     "name": "stdout",
     "output_type": "stream",
     "text": [
      "train: 0.9985049622107037\r\n",
      "test: 0.8544263608171094\r\n"
     ]
    }
   ],
   "execution_count": 8
  },
  {
   "metadata": {
    "ExecuteTime": {
     "end_time": "2024-05-15T18:34:41.972640Z",
     "start_time": "2024-05-15T18:34:39.025105Z"
    }
   },
   "cell_type": "code",
   "source": "!python main.py predict --model models/model.pkl --data ../../data/review.csv",
   "id": "5335df864141db70",
   "outputs": [
    {
     "name": "stdout",
     "output_type": "stream",
     "text": [
      "negative review 0\r\n",
      "positive review 1\r\n",
      "positive review 1\r\n",
      "negative review 0\r\n"
     ]
    }
   ],
   "execution_count": 9
  },
  {
   "metadata": {},
   "cell_type": "markdown",
   "source": "## Medium",
   "id": "7a070435f35cc406"
  },
  {
   "metadata": {},
   "cell_type": "markdown",
   "source": "Тесты проверяют работу различных assert, проверка того, что данные, которые подают на вход - корректные, что действительно возвращается модель, корректность предсказания, разбиения данных и их перемешивания и др. ",
   "id": "33cb729dd676d143"
  },
  {
   "metadata": {
    "ExecuteTime": {
     "end_time": "2024-05-15T18:34:41.986070Z",
     "start_time": "2024-05-15T18:34:41.977398Z"
    }
   },
   "cell_type": "code",
   "source": [
    "open('../../data/empty.csv', 'a').close()\n",
    "with open('../../data/empty_without_text.csv', 'w') as f:\n",
    "    f.write('\"foo\",\"bar\"')\n",
    "with open('../../data/empty_with_text.csv', 'w') as f:\n",
    "    f.write('\"text\",\"foo\",\"bar\"')"
   ],
   "id": "1d8768f446652270",
   "outputs": [],
   "execution_count": 10
  },
  {
   "metadata": {
    "ExecuteTime": {
     "end_time": "2024-05-15T18:35:29.384952Z",
     "start_time": "2024-05-15T18:34:41.988368Z"
    }
   },
   "cell_type": "code",
   "source": "!pytest test.py main.py",
   "id": "c48f77e0560de669",
   "outputs": [
    {
     "name": "stdout",
     "output_type": "stream",
     "text": [
      "\u001B[1m============================= test session starts ==============================\u001B[0m\r\n",
      "platform linux -- Python 3.11.5, pytest-7.4.0, pluggy-1.0.0\r\n",
      "rootdir: /home/zahar/hse_ml_homework_ZK/notebooks/07-homework\r\n",
      "plugins: anyio-3.5.0\r\n",
      "collected 3 items                                                              \u001B[0m\u001B[1m\r\n",
      "\r\n",
      "test.py \u001B[32m.\u001B[0m\u001B[32m.\u001B[0m\u001B[32m.\u001B[0m\u001B[32m                                                              [100%]\u001B[0m\r\n",
      "\r\n",
      "\u001B[32m============================== \u001B[32m\u001B[1m3 passed\u001B[0m\u001B[32m in 46.08s\u001B[0m\u001B[32m ==============================\u001B[0m\r\n"
     ]
    }
   ],
   "execution_count": 11
  },
  {
   "metadata": {
    "ExecuteTime": {
     "end_time": "2024-05-15T18:35:29.396601Z",
     "start_time": "2024-05-15T18:35:29.387354Z"
    }
   },
   "cell_type": "code",
   "source": [
    "os.remove('../../data/empty_without_text.csv')\n",
    "os.remove('../../data/empty_with_text.csv')\n",
    "os.remove('../../data/empty.csv')\n",
    "os.remove('../../data/train.csv')\n",
    "os.remove('../../data/test.csv')\n",
    "os.remove('../../data/review.csv')"
   ],
   "id": "72bf8ac9268a9e70",
   "outputs": [],
   "execution_count": 12
  },
  {
   "metadata": {
    "ExecuteTime": {
     "end_time": "2024-05-15T18:35:29.402372Z",
     "start_time": "2024-05-15T18:35:29.398635Z"
    }
   },
   "cell_type": "code",
   "source": "",
   "id": "ac66f70aed318bc1",
   "outputs": [],
   "execution_count": 12
  }
 ],
 "metadata": {
  "kernelspec": {
   "display_name": "my-enviroment",
   "language": "python",
   "name": "my-enviroment"
  },
  "language_info": {
   "codemirror_mode": {
    "name": "ipython",
    "version": 2
   },
   "file_extension": ".py",
   "mimetype": "text/x-python",
   "name": "python",
   "nbconvert_exporter": "python",
   "pygments_lexer": "ipython2",
   "version": "2.7.6"
  }
 },
 "nbformat": 4,
 "nbformat_minor": 5
}
